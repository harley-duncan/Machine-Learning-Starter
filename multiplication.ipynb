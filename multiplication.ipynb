{
  "nbformat": 4,
  "nbformat_minor": 0,
  "metadata": {
    "colab": {
      "name": "multiplication.ipynb",
      "provenance": [],
      "collapsed_sections": [],
      "authorship_tag": "ABX9TyPZSMJc+yo/c+B7Mqju0/3D",
      "include_colab_link": true
    },
    "kernelspec": {
      "name": "python3",
      "display_name": "Python 3"
    }
  },
  "cells": [
    {
      "cell_type": "markdown",
      "metadata": {
        "id": "view-in-github",
        "colab_type": "text"
      },
      "source": [
        "<a href=\"https://colab.research.google.com/github/svpino/machine-learning/blob/master/multiplication.ipynb\" target=\"_parent\"><img src=\"https://colab.research.google.com/assets/colab-badge.svg\" alt=\"Open In Colab\"/></a>"
      ]
    },
    {
      "cell_type": "code",
      "metadata": {
        "id": "z_qGVgfrAbJv",
        "colab_type": "code",
        "colab": {}
      },
      "source": [
        "import tensorflow as tf\n",
        "import numpy as np\n",
        "import matplotlib.pyplot as plt"
      ],
      "execution_count": 17,
      "outputs": []
    },
    {
      "cell_type": "code",
      "metadata": {
        "id": "o1YTWTonjx2m",
        "colab_type": "code",
        "colab": {}
      },
      "source": [
        "DATASET_TRAINING_SIZE = 100\n",
        "DATASET_TESTING_SIZE = 1000"
      ],
      "execution_count": 18,
      "outputs": []
    },
    {
      "cell_type": "markdown",
      "metadata": {
        "id": "AGEtglL7j18L",
        "colab_type": "text"
      },
      "source": [
        "Let's first generate the training dataset using values ranging from 'low' to 'high'.\n",
        "\n",
        "We can determine the training labels by multiplying each pair generated before."
      ]
    },
    {
      "cell_type": "code",
      "metadata": {
        "id": "cC9vqlGBkGOs",
        "colab_type": "code",
        "colab": {}
      },
      "source": [
        "X = np.random.randint(low=1, high=9, size=(DATASET_TRAINING_SIZE, 2))\n",
        "y = np.prod(X, axis=1).reshape(DATASET_TRAINING_SIZE, 1)"
      ],
      "execution_count": 19,
      "outputs": []
    },
    {
      "cell_type": "markdown",
      "metadata": {
        "id": "bSDbNXIWkIPy",
        "colab_type": "text"
      },
      "source": [
        "Since we are trying to approximate multiplication, we know there will be a lot of variance in the results. Also, multipliying numbers can really quickly spin our neural network out of control so we are going to normalizing the input values. In this case, we are using log normalization."
      ]
    },
    {
      "cell_type": "code",
      "metadata": {
        "id": "bPhFFlDPkcGy",
        "colab_type": "code",
        "colab": {}
      },
      "source": [
        "X = np.log(X)"
      ],
      "execution_count": 20,
      "outputs": []
    },
    {
      "cell_type": "markdown",
      "metadata": {
        "id": "ktY5f_Btkems",
        "colab_type": "text"
      },
      "source": [
        "Time to set up our neural network"
      ]
    },
    {
      "cell_type": "code",
      "metadata": {
        "id": "0H82zW7Ykl6G",
        "colab_type": "code",
        "colab": {
          "base_uri": "https://localhost:8080/",
          "height": 255
        },
        "outputId": "7dabc324-ae4a-4b0c-fcb5-ea0c67894e3c"
      },
      "source": [
        "model = tf.keras.Sequential([\n",
        "  tf.keras.layers.Dense(units=4, input_shape=(2,)),\n",
        "  tf.keras.layers.Dense(units=4, activation=\"relu\"),\n",
        "  tf.keras.layers.Dense(units=1)\n",
        "])\n",
        "\n",
        "model.compile(\n",
        "    loss='mean_squared_error', \n",
        "    optimizer=tf.keras.optimizers.Adam(0.01)\n",
        ")\n",
        "\n",
        "model.summary()"
      ],
      "execution_count": 21,
      "outputs": [
        {
          "output_type": "stream",
          "text": [
            "Model: \"sequential_3\"\n",
            "_________________________________________________________________\n",
            "Layer (type)                 Output Shape              Param #   \n",
            "=================================================================\n",
            "dense_9 (Dense)              (None, 4)                 12        \n",
            "_________________________________________________________________\n",
            "dense_10 (Dense)             (None, 4)                 20        \n",
            "_________________________________________________________________\n",
            "dense_11 (Dense)             (None, 1)                 5         \n",
            "=================================================================\n",
            "Total params: 37\n",
            "Trainable params: 37\n",
            "Non-trainable params: 0\n",
            "_________________________________________________________________\n"
          ],
          "name": "stdout"
        }
      ]
    },
    {
      "cell_type": "markdown",
      "metadata": {
        "id": "fnWmKxfGkrnX",
        "colab_type": "text"
      },
      "source": [
        "Now we can start training the network with our input dataset"
      ]
    },
    {
      "cell_type": "code",
      "metadata": {
        "id": "UiiZ2ViVkx28",
        "colab_type": "code",
        "colab": {}
      },
      "source": [
        "history = model.fit(X, y, epochs=250, batch_size=10, verbose=False)"
      ],
      "execution_count": 22,
      "outputs": []
    },
    {
      "cell_type": "markdown",
      "metadata": {
        "id": "IQnJaduOk0In",
        "colab_type": "text"
      },
      "source": [
        "At this point we already have our model fully trained. We can now generate some testing data (using the same method we used to generate our training data)."
      ]
    },
    {
      "cell_type": "code",
      "metadata": {
        "id": "aYJ8dffak9lW",
        "colab_type": "code",
        "colab": {}
      },
      "source": [
        "X_test = np.random.randint(low=1, high=9, size=(DATASET_TESTING_SIZE, 2))\n",
        "y_test = np.prod(X_test, axis=1).reshape(DATASET_TESTING_SIZE, 1)"
      ],
      "execution_count": 23,
      "outputs": []
    },
    {
      "cell_type": "markdown",
      "metadata": {
        "id": "R9gkqar-k_Xp",
        "colab_type": "text"
      },
      "source": [
        "We need to apply the same log normalization to the test data (that's how we trained our network.) \n",
        "\n",
        "But before we do that, let's print 10 examples so we know what we should be expecting."
      ]
    },
    {
      "cell_type": "code",
      "metadata": {
        "id": "vraas0UYlYkD",
        "colab_type": "code",
        "colab": {
          "base_uri": "https://localhost:8080/",
          "height": 391
        },
        "outputId": "5df08847-6784-4b53-9418-6ade57cf88d9"
      },
      "source": [
        "print(f\"X_test:\\n{X_test[:10]}\")\n",
        "print(f\"y_test:\\n{y_test[:10]}\")\n",
        "\n",
        "X_test = np.log(X_test)"
      ],
      "execution_count": 24,
      "outputs": [
        {
          "output_type": "stream",
          "text": [
            "X_test:\n",
            "[[8 4]\n",
            " [1 1]\n",
            " [6 1]\n",
            " [8 6]\n",
            " [3 8]\n",
            " [2 8]\n",
            " [8 3]\n",
            " [3 2]\n",
            " [8 7]\n",
            " [3 8]]\n",
            "y_test:\n",
            "[[32]\n",
            " [ 1]\n",
            " [ 6]\n",
            " [48]\n",
            " [24]\n",
            " [16]\n",
            " [24]\n",
            " [ 6]\n",
            " [56]\n",
            " [24]]\n"
          ],
          "name": "stdout"
        }
      ]
    },
    {
      "cell_type": "markdown",
      "metadata": {
        "id": "m5xsLFV9lbSY",
        "colab_type": "text"
      },
      "source": [
        "Let's now predict on our test dataset and print the top 10 results"
      ]
    },
    {
      "cell_type": "code",
      "metadata": {
        "id": "lIXH9TIHP4Fe",
        "colab_type": "code",
        "colab": {
          "base_uri": "https://localhost:8080/",
          "height": 204
        },
        "outputId": "285f2192-cd6d-4eba-b166-003f77ebedfc"
      },
      "source": [
        "predictions = model.predict(X_test)\n",
        "print(f\"Predictions:\\n{predictions[:10]}\")"
      ],
      "execution_count": 25,
      "outputs": [
        {
          "output_type": "stream",
          "text": [
            "Predictions:\n",
            "[[31.303698 ]\n",
            " [ 1.1788328]\n",
            " [ 6.5795193]\n",
            " [48.02962  ]\n",
            " [24.311125 ]\n",
            " [15.0336895]\n",
            " [24.434305 ]\n",
            " [ 6.605032 ]\n",
            " [54.38852  ]\n",
            " [24.311125 ]]\n"
          ],
          "name": "stdout"
        }
      ]
    },
    {
      "cell_type": "markdown",
      "metadata": {
        "id": "NLB62xZYlkkM",
        "colab_type": "text"
      },
      "source": [
        "To see how we did, we can compute the RMSE on the results we got"
      ]
    },
    {
      "cell_type": "code",
      "metadata": {
        "id": "v4ZMO1XVkwhW",
        "colab_type": "code",
        "colab": {
          "base_uri": "https://localhost:8080/",
          "height": 51
        },
        "outputId": "692e4ae9-7506-41f3-d30c-8f9a3b16810a"
      },
      "source": [
        "rmse = np.sqrt(np.mean((predictions - y_test)**2))\n",
        "print(f\"\\nRMSE: {rmse}\")"
      ],
      "execution_count": 26,
      "outputs": [
        {
          "output_type": "stream",
          "text": [
            "\n",
            "RMSE: 0.8508553986206628\n"
          ],
          "name": "stdout"
        }
      ]
    },
    {
      "cell_type": "markdown",
      "metadata": {
        "id": "_UadRFUrlyC6",
        "colab_type": "text"
      },
      "source": [
        "Finally, we can plot the loss during training. "
      ]
    },
    {
      "cell_type": "code",
      "metadata": {
        "id": "iheDVWT-l3CB",
        "colab_type": "code",
        "colab": {
          "base_uri": "https://localhost:8080/",
          "height": 312
        },
        "outputId": "fc728d41-3004-40b2-8f4b-a4323f840b4a"
      },
      "source": [
        "plt.title(\"Loss\")\n",
        "plt.xlabel('Epoch')\n",
        "plt.ylabel(\"Loss\")\n",
        "plt.plot(history.history['loss'])"
      ],
      "execution_count": 27,
      "outputs": [
        {
          "output_type": "execute_result",
          "data": {
            "text/plain": [
              "[<matplotlib.lines.Line2D at 0x7f0045c7ff98>]"
            ]
          },
          "metadata": {
            "tags": []
          },
          "execution_count": 27
        },
        {
          "output_type": "display_data",
          "data": {
            "image/png": "[encoded data removed]",
            "text/plain": [
              "<Figure size 432x288 with 1 Axes>"
            ]
          },
          "metadata": {
            "tags": [],
            "needs_background": "light"
          }
        }
      ]
    }
  ]
}